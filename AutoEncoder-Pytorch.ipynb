{
 "cells": [
  {
   "cell_type": "code",
   "execution_count": 1,
   "metadata": {
    "ExecuteTime": {
     "end_time": "2018-07-07T13:45:16.692423Z",
     "start_time": "2018-07-07T13:45:16.199850Z"
    },
    "collapsed": true
   },
   "outputs": [],
   "source": [
    "import torch\n",
    "from torch.autograd import Variable\n",
    "from torchvision.transforms import transforms\n",
    "import torchvision.datasets as dsets\n",
    "import torch.nn as nn\n",
    "import os\n",
    "import torchvision"
   ]
  },
  {
   "cell_type": "code",
   "execution_count": 2,
   "metadata": {
    "ExecuteTime": {
     "end_time": "2018-07-07T13:45:16.697082Z",
     "start_time": "2018-07-07T13:45:16.694078Z"
    },
    "collapsed": true
   },
   "outputs": [],
   "source": [
    "if not os.path.exists('./mlp_img/'):\n",
    "    os.mkdir('./mlp_img')"
   ]
  },
  {
   "cell_type": "code",
   "execution_count": 3,
   "metadata": {
    "ExecuteTime": {
     "end_time": "2018-07-07T13:45:16.793144Z",
     "start_time": "2018-07-07T13:45:16.699081Z"
    },
    "collapsed": true
   },
   "outputs": [],
   "source": [
    "img_transform = transforms.Compose([\n",
    "    transforms.ToTensor(),\n",
    "    transforms.Normalize((0.5, 0.5, 0.5), (0.5, 0.5, 0.5))\n",
    "])"
   ]
  },
  {
   "cell_type": "code",
   "execution_count": 4,
   "metadata": {
    "ExecuteTime": {
     "end_time": "2018-07-07T13:45:16.961090Z",
     "start_time": "2018-07-07T13:45:16.794612Z"
    },
    "collapsed": true
   },
   "outputs": [],
   "source": [
    "train_data = dsets.MNIST(\"./Mnist\",train= True,transform=img_transform,download=True)\n",
    "test_data = dsets.MNIST(\"./Mnist\",train= False,transform=img_transform,download=True)"
   ]
  },
  {
   "cell_type": "markdown",
   "metadata": {},
   "source": [
    "## Convert Data to iterable"
   ]
  },
  {
   "cell_type": "code",
   "execution_count": 5,
   "metadata": {
    "ExecuteTime": {
     "end_time": "2018-07-07T13:45:17.001971Z",
     "start_time": "2018-07-07T13:45:16.962089Z"
    },
    "collapsed": true
   },
   "outputs": [],
   "source": [
    "batchsize = 100\n",
    "epochs = 50\n",
    "train_data = torch.utils.data.DataLoader(train_data,batch_size=batchsize,shuffle=True)\n",
    "test_data  = torch.utils.data.DataLoader(test_data,batch_size=batchsize,shuffle= False)"
   ]
  },
  {
   "cell_type": "markdown",
   "metadata": {},
   "source": [
    "## Building Model class"
   ]
  },
  {
   "cell_type": "code",
   "execution_count": 6,
   "metadata": {
    "ExecuteTime": {
     "end_time": "2018-07-07T13:45:17.108520Z",
     "start_time": "2018-07-07T13:45:17.002978Z"
    },
    "collapsed": true
   },
   "outputs": [],
   "source": [
    "class Autoencoder(nn.Module):\n",
    "    def __init__(self):\n",
    "        super(Autoencoder,self).__init__()\n",
    "        self.encoder = nn.Sequential(nn.Linear(28*28,128),nn.ReLU(True),nn.Linear(128, 64),nn.ReLU(True), nn.Linear(64, 12), nn.ReLU(True), nn.Linear(12, 3))\n",
    "        self.decoder = nn.Sequential(nn.Linear(3, 12),nn.ReLU(True),nn.Linear(12, 64),nn.ReLU(True),nn.Linear(64, 128),nn.ReLU(True), nn.Linear(128, 28 * 28), nn.Tanh())\n",
    "        \n",
    "    def forward(self,x):\n",
    "        out =self.encoder(x)\n",
    "        out = self.decoder(out)\n",
    "        return out"
   ]
  },
  {
   "cell_type": "code",
   "execution_count": 7,
   "metadata": {
    "ExecuteTime": {
     "end_time": "2018-07-07T13:45:17.206901Z",
     "start_time": "2018-07-07T13:45:17.112517Z"
    },
    "collapsed": true
   },
   "outputs": [],
   "source": [
    "model = Autoencoder()"
   ]
  },
  {
   "cell_type": "markdown",
   "metadata": {},
   "source": [
    "## Instantitate Loss function"
   ]
  },
  {
   "cell_type": "code",
   "execution_count": 8,
   "metadata": {
    "ExecuteTime": {
     "end_time": "2018-07-07T13:45:17.347989Z",
     "start_time": "2018-07-07T13:45:17.212869Z"
    },
    "collapsed": true
   },
   "outputs": [],
   "source": [
    "criterion = nn.MSELoss()"
   ]
  },
  {
   "cell_type": "markdown",
   "metadata": {},
   "source": [
    "## Instantiate Optimizer"
   ]
  },
  {
   "cell_type": "code",
   "execution_count": 9,
   "metadata": {
    "ExecuteTime": {
     "end_time": "2018-07-07T13:45:17.461084Z",
     "start_time": "2018-07-07T13:45:17.353004Z"
    },
    "collapsed": true
   },
   "outputs": [],
   "source": [
    "learning_rate = 0.5\n",
    "optimizer = torch.optim.SGD(model.parameters(),lr=learning_rate)"
   ]
  },
  {
   "cell_type": "code",
   "execution_count": 10,
   "metadata": {
    "ExecuteTime": {
     "end_time": "2018-07-07T13:45:17.778340Z",
     "start_time": "2018-07-07T13:45:17.466088Z"
    },
    "collapsed": true
   },
   "outputs": [],
   "source": [
    "import matplotlib.pyplot as plt\n",
    "%matplotlib inline"
   ]
  },
  {
   "cell_type": "code",
   "execution_count": 11,
   "metadata": {
    "ExecuteTime": {
     "end_time": "2018-07-07T13:45:17.784347Z",
     "start_time": "2018-07-07T13:45:17.779344Z"
    },
    "collapsed": true
   },
   "outputs": [],
   "source": [
    "def to_img(x):\n",
    "    x = 0.5 * (x + 1)\n",
    "    x = x.clamp(0, 1)\n",
    "    x = x.view(x.size(0), 1, 28, 28)\n",
    "    return x"
   ]
  },
  {
   "cell_type": "markdown",
   "metadata": {},
   "source": [
    "## Train"
   ]
  },
  {
   "cell_type": "code",
   "execution_count": 12,
   "metadata": {
    "ExecuteTime": {
     "end_time": "2018-07-07T13:50:58.896472Z",
     "start_time": "2018-07-07T13:45:17.786348Z"
    }
   },
   "outputs": [
    {
     "name": "stderr",
     "output_type": "stream",
     "text": [
      "C:\\Users\\IIST\\Anaconda3\\lib\\site-packages\\ipykernel\\__main__.py:16: UserWarning: invalid index of a 0-dim tensor. This will be an error in PyTorch 0.5. Use tensor.item() to convert a 0-dim tensor to a Python number\n"
     ]
    },
    {
     "name": "stdout",
     "output_type": "stream",
     "text": [
      "Epoch 0 ,MSE 0.24991704523563385\n",
      "Epoch 1 ,MSE 0.2498287707567215\n",
      "Epoch 2 ,MSE 0.22775761783123016\n",
      "Epoch 3 ,MSE 0.2300102412700653\n",
      "Epoch 4 ,MSE 0.22120025753974915\n",
      "Epoch 5 ,MSE 0.20306430757045746\n",
      "Epoch 6 ,MSE 0.21696393191814423\n",
      "Epoch 7 ,MSE 0.18394610285758972\n",
      "Epoch 8 ,MSE 0.19213023781776428\n",
      "Epoch 9 ,MSE 0.18105114996433258\n",
      "Epoch 10 ,MSE 0.19530881941318512\n",
      "Epoch 11 ,MSE 0.1795307844877243\n",
      "Epoch 12 ,MSE 0.18868018686771393\n",
      "Epoch 13 ,MSE 0.16996625065803528\n",
      "Epoch 14 ,MSE 0.17094561457633972\n",
      "Epoch 15 ,MSE 0.1701389104127884\n",
      "Epoch 16 ,MSE 0.16034144163131714\n",
      "Epoch 17 ,MSE 0.1554080694913864\n",
      "Epoch 18 ,MSE 0.158613383769989\n",
      "Epoch 19 ,MSE 0.15336520969867706\n",
      "Epoch 20 ,MSE 0.15373174846172333\n",
      "Epoch 21 ,MSE 0.15576739609241486\n",
      "Epoch 22 ,MSE 0.14623253047466278\n",
      "Epoch 23 ,MSE 0.14967307448387146\n",
      "Epoch 24 ,MSE 0.15947800874710083\n",
      "Epoch 25 ,MSE 0.14648309350013733\n",
      "Epoch 26 ,MSE 0.1366746723651886\n",
      "Epoch 27 ,MSE 0.14308156073093414\n",
      "Epoch 28 ,MSE 0.1522388756275177\n",
      "Epoch 29 ,MSE 0.14118683338165283\n",
      "Epoch 30 ,MSE 0.13574950397014618\n",
      "Epoch 31 ,MSE 0.13226987421512604\n",
      "Epoch 32 ,MSE 0.13526956737041473\n",
      "Epoch 33 ,MSE 0.14160652458667755\n",
      "Epoch 34 ,MSE 0.1409851759672165\n",
      "Epoch 35 ,MSE 0.1290656477212906\n",
      "Epoch 36 ,MSE 0.14190663397312164\n",
      "Epoch 37 ,MSE 0.14659450948238373\n",
      "Epoch 38 ,MSE 0.14170457422733307\n",
      "Epoch 39 ,MSE 0.1488155871629715\n",
      "Epoch 40 ,MSE 0.13774386048316956\n",
      "Epoch 41 ,MSE 0.13647998869419098\n",
      "Epoch 42 ,MSE 0.13578400015830994\n",
      "Epoch 43 ,MSE 0.13643771409988403\n",
      "Epoch 44 ,MSE 0.13600997626781464\n",
      "Epoch 45 ,MSE 0.13287611305713654\n",
      "Epoch 46 ,MSE 0.14251796901226044\n",
      "Epoch 47 ,MSE 0.12932069599628448\n",
      "Epoch 48 ,MSE 0.12725943326950073\n",
      "Epoch 49 ,MSE 0.14021502435207367\n"
     ]
    }
   ],
   "source": [
    "iter = 0\n",
    "for i in range(epochs):\n",
    "    for j,(images,labels) in enumerate(train_data):\n",
    "        images = Variable(images.view(-1,28*28))\n",
    "        output = model.forward(images)\n",
    "        loss = criterion(output,images)\n",
    "\n",
    "        optimizer.zero_grad()\n",
    "        \n",
    "        loss.backward()\n",
    "        \n",
    "        optimizer.step()\n",
    "        \n",
    "        iter = iter + 1\n",
    "        \n",
    "    print(\"Epoch {} ,MSE {}\".format(i,loss.data[0]))\n",
    "    pic = to_img(output.cpu().data)\n",
    "    torchvision.utils.save_image(pic, './mlp_img/image_{}.png'.format(i))"
   ]
  },
  {
   "cell_type": "code",
   "execution_count": null,
   "metadata": {
    "collapsed": true
   },
   "outputs": [],
   "source": []
  }
 ],
 "metadata": {
  "kernelspec": {
   "display_name": "Python 3",
   "language": "python",
   "name": "python3"
  },
  "language_info": {
   "codemirror_mode": {
    "name": "ipython",
    "version": 3
   },
   "file_extension": ".py",
   "mimetype": "text/x-python",
   "name": "python",
   "nbconvert_exporter": "python",
   "pygments_lexer": "ipython3",
   "version": "3.6.0"
  },
  "varInspector": {
   "cols": {
    "lenName": 16,
    "lenType": 16,
    "lenVar": 40
   },
   "kernels_config": {
    "python": {
     "delete_cmd_postfix": "",
     "delete_cmd_prefix": "del ",
     "library": "var_list.py",
     "varRefreshCmd": "print(var_dic_list())"
    },
    "r": {
     "delete_cmd_postfix": ") ",
     "delete_cmd_prefix": "rm(",
     "library": "var_list.r",
     "varRefreshCmd": "cat(var_dic_list()) "
    }
   },
   "position": {
    "height": "437px",
    "left": "871.818px",
    "right": "20px",
    "top": "120px",
    "width": "350px"
   },
   "types_to_exclude": [
    "module",
    "function",
    "builtin_function_or_method",
    "instance",
    "_Feature"
   ],
   "window_display": true
  }
 },
 "nbformat": 4,
 "nbformat_minor": 2
}
